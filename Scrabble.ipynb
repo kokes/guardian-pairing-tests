{
 "cells": [
  {
   "cell_type": "markdown",
   "metadata": {},
   "source": [
    "Scrabble\n",
    "--------\n",
    "\n",
    "* Calculate the score for a word (you may ignore double/triple letter/word scores).\n",
    "* Assign seven tiles chosen randomly from the english alphabet to a rack.\n",
    "* Letters should be distributed based on the English [Scrabble letter distribution](https://en.wikipedia.org/wiki/Scrabble_letter_distributions) (you may ignore blank tiles).\n",
    "* Find a valid word formed from the seven tiles. A list of valid words can be found in `twl06.txt`.\n",
    "* Find the longest valid word that can be formed from the seven tiles.\n",
    "* Find the highest scoring word that can be formed.\n",
    "* Find the highest scoring word if any one of the letters can score triple."
   ]
  },
  {
   "cell_type": "code",
   "execution_count": 1,
   "metadata": {
    "collapsed": true
   },
   "outputs": [],
   "source": [
    "from collections import defaultdict\n",
    "import random\n",
    "import itertools\n",
    "import urllib, urllib.request\n",
    "import os"
   ]
  },
  {
   "cell_type": "markdown",
   "metadata": {},
   "source": [
    "### Prepping the dictionary\n",
    "Let's download the dictionary as supplied by The Guardian"
   ]
  },
  {
   "cell_type": "code",
   "execution_count": 2,
   "metadata": {
    "collapsed": true
   },
   "outputs": [],
   "source": [
    "durl = 'https://raw.githubusercontent.com/guardian/pairing-tests/master/scrabble/twl06.txt'\n",
    "fn = urllib.parse.urlsplit(durl).path.split('/')[-1]\n",
    "\n",
    "if not os.path.exists(fn):\n",
    "    urllib.request.urlretrieve(durl, fn)"
   ]
  },
  {
   "cell_type": "code",
   "execution_count": 3,
   "metadata": {
    "collapsed": false
   },
   "outputs": [
    {
     "name": "stdout",
     "output_type": "stream",
     "text": [
      "CPU times: user 174 ms, sys: 35.5 ms, total: 210 ms\n",
      "Wall time: 242 ms\n"
     ]
    }
   ],
   "source": [
    "%%time\n",
    "# it's small enough to read at once\n",
    "with open('twl06.txt') as f:\n",
    "    lwords = f.read().split('\\n') # I'll keep it in a list for now as well\n",
    "    lwords = list(filter(lambda x: len(x) > 0, lwords)) # looping twice, but it's a small sample, so\n",
    "    words = set(lwords)"
   ]
  },
  {
   "cell_type": "code",
   "execution_count": 4,
   "metadata": {
    "collapsed": false
   },
   "outputs": [
    {
     "data": {
      "text/plain": [
       "178691"
      ]
     },
     "execution_count": 4,
     "metadata": {},
     "output_type": "execute_result"
    }
   ],
   "source": [
    "len(words)"
   ]
  },
  {
   "cell_type": "markdown",
   "metadata": {},
   "source": [
    "Yeah, constant time lookup in sets is gonna be handy."
   ]
  },
  {
   "cell_type": "code",
   "execution_count": 5,
   "metadata": {
    "collapsed": false
   },
   "outputs": [
    {
     "name": "stdout",
     "output_type": "stream",
     "text": [
      "The slowest run took 19.10 times longer than the fastest. This could mean that an intermediate result is being cached.\n",
      "10000000 loops, best of 3: 106 ns per loop\n"
     ]
    }
   ],
   "source": [
    "%timeit 'zymosis' in words"
   ]
  },
  {
   "cell_type": "code",
   "execution_count": 6,
   "metadata": {
    "collapsed": false
   },
   "outputs": [
    {
     "name": "stdout",
     "output_type": "stream",
     "text": [
      "100 loops, best of 3: 5.03 ms per loop\n"
     ]
    }
   ],
   "source": [
    "%timeit 'zymosis' in lwords"
   ]
  },
  {
   "cell_type": "markdown",
   "metadata": {},
   "source": [
    "In order to best match random tile combinations, it will be good to sort all words by their letters. That is, sort letters within a word, so 'letter' becomes 'eelrtt'. That way I know that I can use letters 'eelrtt' to construct 'letter' outright. In constant time, actually."
   ]
  },
  {
   "cell_type": "code",
   "execution_count": 7,
   "metadata": {
    "collapsed": false
   },
   "outputs": [
    {
     "name": "stdout",
     "output_type": "stream",
     "text": [
      "CPU times: user 1.26 s, sys: 67.1 ms, total: 1.33 s\n",
      "Wall time: 1.6 s\n"
     ]
    }
   ],
   "source": [
    "%%time\n",
    "skwords = defaultdict(list)\n",
    "for l in words:\n",
    "    skwords[''.join(sorted(l))] += [l]"
   ]
  },
  {
   "cell_type": "markdown",
   "metadata": {},
   "source": [
    "It's a bit slow to generate, but it will save me quite a bit of time later on. At this point the question is - what are we optimising? A cold start? If so, this is not the best way. But, we could easily cache this sorted representation."
   ]
  },
  {
   "cell_type": "markdown",
   "metadata": {},
   "source": [
    "### Tiles\n",
    "As [Wikipedia says](https://en.wikipedia.org/wiki/Scrabble_letter_distributions#English):\n",
    "\n",
    "*English-language editions of Scrabble contain 100 letter tiles, in the following distribution*:\n",
    "\n",
    "- 2 blank tiles (scoring 0 points)\n",
    "- 1 point: E ×12, A ×9, I ×9, O ×8, N ×6, R ×6, T ×6, L ×4, S ×4, U ×4\n",
    "- 2 points: D ×4, G ×3\n",
    "- 3 points: B ×2, C ×2, M ×2, P ×2\n",
    "- 4 points: F ×2, H ×2, V ×2, W ×2, Y ×2\n",
    "- 5 points: K ×1\n",
    "- 8 points: J ×1, X ×1\n",
    "- 10 points: Q ×1, Z ×1"
   ]
  },
  {
   "cell_type": "code",
   "execution_count": 8,
   "metadata": {
    "collapsed": false
   },
   "outputs": [],
   "source": [
    "def get_rack(num):\n",
    "    \"\"\"Generate a proper Scrabble rack of size `num`\"\"\"\n",
    "    letters = list(12*'e' + 9*'ai' + 8*'o' + 6*'nrt' + 4*'lsud' + 3*'g' + 2*'bcmpfhvwy' + 'kjxqz') # ignoring blanks\n",
    "    return random.sample(letters, num)"
   ]
  },
  {
   "cell_type": "code",
   "execution_count": 9,
   "metadata": {
    "collapsed": false
   },
   "outputs": [],
   "source": [
    "sc = [tuple(j.split('/')) for j in '1/eaionrtlsu, 2/dg, 3/bcmp, 4/fhvwy, 5/k, 8/jx, 10/qz'.split(', ')]\n",
    "scores = {l: int(k) for k,v in sc for l in list(v)}"
   ]
  },
  {
   "cell_type": "code",
   "execution_count": 10,
   "metadata": {
    "collapsed": true
   },
   "outputs": [],
   "source": [
    "def wscore(word):\n",
    "    \"\"\"What's the word score with no trebling\"\"\"\n",
    "    return sum([scores[l] for l in word])"
   ]
  },
  {
   "cell_type": "code",
   "execution_count": 11,
   "metadata": {
    "collapsed": true
   },
   "outputs": [],
   "source": [
    "rack = get_rack(7)"
   ]
  },
  {
   "cell_type": "markdown",
   "metadata": {},
   "source": [
    "I only need 128 tries, because the sum of (n choose k) is 2^n and 2^7 = 128"
   ]
  },
  {
   "cell_type": "code",
   "execution_count": 12,
   "metadata": {
    "collapsed": false
   },
   "outputs": [
    {
     "name": "stdout",
     "output_type": "stream",
     "text": [
      "1\n",
      "7\n",
      "21\n",
      "35\n",
      "35\n",
      "21\n",
      "7\n",
      "1\n"
     ]
    }
   ],
   "source": [
    "for j in range(8):\n",
    "    print(len(list(itertools.combinations(''.join(sorted(rack)), j))))"
   ]
  },
  {
   "cell_type": "markdown",
   "metadata": {},
   "source": [
    "So once we have the dictionary all set, we can have a quick *warm start* function."
   ]
  },
  {
   "cell_type": "code",
   "execution_count": 13,
   "metadata": {
    "collapsed": false
   },
   "outputs": [
    {
     "data": {
      "text/plain": [
       "defaultdict(list,\n",
       "            {2: ['ae', 'ae', 'oe', 'oe'],\n",
       "             5: ['aw', 'we', 'we', 'ow', 'wo'],\n",
       "             6: ['ka',\n",
       "              'awe',\n",
       "              'wae',\n",
       "              'awe',\n",
       "              'wae',\n",
       "              'wee',\n",
       "              'ewe',\n",
       "              'owe',\n",
       "              'woe',\n",
       "              'owe',\n",
       "              'woe'],\n",
       "             7: ['kae',\n",
       "              'kea',\n",
       "              'kae',\n",
       "              'kea',\n",
       "              'oak',\n",
       "              'oka',\n",
       "              'koa',\n",
       "              'eke',\n",
       "              'eek',\n",
       "              'oke',\n",
       "              'oke',\n",
       "              'awee'],\n",
       "             8: ['akee'],\n",
       "             9: ['jo'],\n",
       "             10: ['jee', 'joe', 'joe', 'wok'],\n",
       "             11: ['ajee',\n",
       "              'weka',\n",
       "              'weak',\n",
       "              'wake',\n",
       "              'weka',\n",
       "              'weak',\n",
       "              'wake',\n",
       "              'week',\n",
       "              'woke',\n",
       "              'woke'],\n",
       "             12: ['awoke', 'awoke'],\n",
       "             13: ['jaw', 'jew', 'jew', 'jow'],\n",
       "             15: ['jake', 'jake', 'joke', 'joke']})"
      ]
     },
     "execution_count": 13,
     "metadata": {},
     "output_type": "execute_result"
    }
   ],
   "source": [
    "def get_words(rack, scf = wscore):\n",
    "    res = defaultdict(list)\n",
    "    for j in range(8):\n",
    "        for tl in itertools.combinations(''.join(sorted(rack)), j):\n",
    "            chrs = ''.join(tl)\n",
    "            if chrs in skwords:\n",
    "                res[scf(chrs)] += skwords[chrs]\n",
    "    return res\n",
    "\n",
    "get_words(get_rack(7))"
   ]
  },
  {
   "cell_type": "code",
   "execution_count": 14,
   "metadata": {
    "collapsed": false
   },
   "outputs": [
    {
     "name": "stdout",
     "output_type": "stream",
     "text": [
      "1000 loops, best of 3: 271 µs per loop\n"
     ]
    }
   ],
   "source": [
    "%timeit get_words(get_rack(7))"
   ]
  },
  {
   "cell_type": "markdown",
   "metadata": {},
   "source": [
    "If I were to think of an algorithm for a cold start, I'd probably do something like this."
   ]
  },
  {
   "cell_type": "code",
   "execution_count": 15,
   "metadata": {
    "collapsed": false
   },
   "outputs": [
    {
     "data": {
      "text/plain": [
       "defaultdict(list,\n",
       "            {2: ['or', 'ut', 'us', 'so', 'os', 'to'],\n",
       "             3: ['sou',\n",
       "              'rut',\n",
       "              'ort',\n",
       "              'uts',\n",
       "              'sot',\n",
       "              'tor',\n",
       "              'ors',\n",
       "              'our',\n",
       "              'rot',\n",
       "              'out'],\n",
       "             4: ['sort',\n",
       "              'sour',\n",
       "              'rust',\n",
       "              'tour',\n",
       "              'orts',\n",
       "              'ours',\n",
       "              'tors',\n",
       "              'rout',\n",
       "              'oust',\n",
       "              'rots',\n",
       "              'ruts',\n",
       "              'outs'],\n",
       "             5: ['ow', 'tours', 'torus', 'stour', 'roust', 'wo', 'routs'],\n",
       "             6: ['wos', 'row', 'two', 'tow', 'sow', 'wot'],\n",
       "             7: ['kor',\n",
       "              'tsk',\n",
       "              'kos',\n",
       "              'tows',\n",
       "              'twos',\n",
       "              'wost',\n",
       "              'wots',\n",
       "              'swot',\n",
       "              'suk',\n",
       "              'wort',\n",
       "              'stow',\n",
       "              'trow',\n",
       "              'rows'],\n",
       "             8: ['wurst',\n",
       "              'kors',\n",
       "              'rusk',\n",
       "              'turk',\n",
       "              'worst',\n",
       "              'strow',\n",
       "              'tusk',\n",
       "              'souk',\n",
       "              'trows',\n",
       "              'worts'],\n",
       "             9: ['turks', 'torsk', 'skort', 'stork'],\n",
       "             10: ['wok'],\n",
       "             11: ['woks', 'work'],\n",
       "             12: ['works']})"
      ]
     },
     "execution_count": 15,
     "metadata": {},
     "output_type": "execute_result"
    }
   ],
   "source": [
    "def get_cwords(rack, scf = wscore):\n",
    "    res = defaultdict(list)\n",
    "    tls = set([''.join(tl) for j in range(8) for tl in itertools.combinations(''.join(sorted(rack)), j)])\n",
    "    \n",
    "    for j in words:\n",
    "        a = ''.join(sorted(j))\n",
    "        if a in tls:\n",
    "            res[scf(j)] += [j]\n",
    "\n",
    "    return res\n",
    "\n",
    "get_cwords(get_rack(7))"
   ]
  },
  {
   "cell_type": "code",
   "execution_count": 16,
   "metadata": {
    "collapsed": false
   },
   "outputs": [
    {
     "name": "stdout",
     "output_type": "stream",
     "text": [
      "1 loop, best of 3: 633 ms per loop\n"
     ]
    }
   ],
   "source": [
    "%timeit get_cwords(get_rack(7))"
   ]
  },
  {
   "cell_type": "markdown",
   "metadata": {
    "collapsed": true
   },
   "source": [
    "So that's about 1500 times slower, but that's because we're looping all the words instead of querying the word set in constant time."
   ]
  },
  {
   "cell_type": "markdown",
   "metadata": {
    "collapsed": true
   },
   "source": [
    "### Triple scoring\n",
    "*Find the highest scoring word if any one of the letters can score triple.*"
   ]
  },
  {
   "cell_type": "code",
   "execution_count": 17,
   "metadata": {
    "collapsed": true
   },
   "outputs": [],
   "source": [
    "def wscore3(word):\n",
    "    \"\"\"Let's triple the top letter, that's the best we can do\"\"\"\n",
    "    sc = [scores[l] for l in word]\n",
    "    return sum(sc) + 2*max(sc)"
   ]
  },
  {
   "cell_type": "code",
   "execution_count": 18,
   "metadata": {
    "collapsed": false
   },
   "outputs": [
    {
     "data": {
      "text/plain": [
       "defaultdict(list,\n",
       "            {4: ['la', 'al', 'ar', 'as', 'us'],\n",
       "             5: ['lar', 'las', 'als', 'sal', 'ras', 'ars', 'sau'],\n",
       "             6: ['lars', 'saul', 'sura', 'ursa', 'slur'],\n",
       "             7: ['ad', 'sural'],\n",
       "             8: ['dal', 'lad', 'rad', 'sad', 'ads', 'urd'],\n",
       "             9: ['lard',\n",
       "              'lads',\n",
       "              'dals',\n",
       "              'dual',\n",
       "              'auld',\n",
       "              'laud',\n",
       "              'sard',\n",
       "              'rads',\n",
       "              'dura',\n",
       "              'surd',\n",
       "              'urds'],\n",
       "             10: ['lards', 'dural', 'duals', 'lauds', 'duras'],\n",
       "             13: ['ha', 'ah', 'sh', 'uh'],\n",
       "             14: ['rah', 'ahs', 'ash', 'sha', 'has'],\n",
       "             15: ['dah',\n",
       "              'had',\n",
       "              'duh',\n",
       "              'harl',\n",
       "              'lash',\n",
       "              'haul',\n",
       "              'hula',\n",
       "              'rash',\n",
       "              'hurl',\n",
       "              'lush',\n",
       "              'shul',\n",
       "              'rush',\n",
       "              'rhus'],\n",
       "             16: ['dhal',\n",
       "              'dahl',\n",
       "              'hard',\n",
       "              'dahs',\n",
       "              'dash',\n",
       "              'shad',\n",
       "              'harls',\n",
       "              'hauls',\n",
       "              'hulas',\n",
       "              'shaul',\n",
       "              'surah',\n",
       "              'hurls'],\n",
       "             17: ['dahls', 'dhals', 'hards', 'shard', 'sadhu', 'hurds']})"
      ]
     },
     "execution_count": 18,
     "metadata": {},
     "output_type": "execute_result"
    }
   ],
   "source": [
    "get_words(get_rack(7), wscore3)"
   ]
  },
  {
   "cell_type": "code",
   "execution_count": 19,
   "metadata": {
    "collapsed": false
   },
   "outputs": [
    {
     "data": {
      "text/plain": [
       "defaultdict(list,\n",
       "            {4: ['oe'],\n",
       "             7: ['de', 'od', 'do', 'ed'],\n",
       "             8: ['doe', 'ode', 'dee'],\n",
       "             13: ['ow', 'of', 'ef', 'fe', 'we', 'wo'],\n",
       "             14: ['foe', 'fee', 'owe', 'wee', 'ewe', 'woe'],\n",
       "             15: ['def', 'dew', 'fed', 'dow', 'wed'],\n",
       "             16: ['owed', 'weed', 'feod', 'feed'],\n",
       "             17: ['few'],\n",
       "             25: ['ex', 'ox'],\n",
       "             27: ['dex'],\n",
       "             28: ['exed'],\n",
       "             29: ['fox'],\n",
       "             32: ['fedex', 'foxed']})"
      ]
     },
     "execution_count": 19,
     "metadata": {},
     "output_type": "execute_result"
    }
   ],
   "source": [
    "get_cwords(get_rack(7), wscore3)"
   ]
  },
  {
   "cell_type": "code",
   "execution_count": null,
   "metadata": {
    "collapsed": true
   },
   "outputs": [],
   "source": []
  }
 ],
 "metadata": {
  "kernelspec": {
   "display_name": "Python 3",
   "language": "python",
   "name": "python3"
  },
  "language_info": {
   "codemirror_mode": {
    "name": "ipython",
    "version": 3
   },
   "file_extension": ".py",
   "mimetype": "text/x-python",
   "name": "python",
   "nbconvert_exporter": "python",
   "pygments_lexer": "ipython3",
   "version": "3.5.1"
  }
 },
 "nbformat": 4,
 "nbformat_minor": 0
}
